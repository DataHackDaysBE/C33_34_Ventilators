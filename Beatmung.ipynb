{
 "cells": [
  {
   "cell_type": "markdown",
   "id": "84fc859f-59b0-4efa-9a9f-6ca6e5c52093",
   "metadata": {
    "slideshow": {
     "slide_type": "slide"
    },
    "tags": []
   },
   "source": [
    "# C33/C34 Beatmungsgeräte\n",
    "> Manuel Vazquez  \n",
    "> Christian Spiller  \n",
    "> Michael Wild"
   ]
  },
  {
   "cell_type": "markdown",
   "id": "2b8914d9-34ac-41ca-9389-9b27767b2655",
   "metadata": {
    "slideshow": {
     "slide_type": "fragment"
    },
    "tags": []
   },
   "source": [
    "## Imports"
   ]
  },
  {
   "cell_type": "code",
   "execution_count": 4,
   "id": "631caeb9-21bc-46e6-b5ca-0e73d357690a",
   "metadata": {},
   "outputs": [],
   "source": [
    "import pandas as pd\n",
    "import requests\n",
    "from zipfile import ZipFile\n",
    "import os, os.path as op\n",
    "import tqdm.notebook as tqdm"
   ]
  },
  {
   "cell_type": "markdown",
   "id": "2da2f76c-95c1-4721-b8c3-ac06fe75cc80",
   "metadata": {
    "slideshow": {
     "slide_type": "fragment"
    },
    "tags": []
   },
   "source": [
    "## Load Data"
   ]
  },
  {
   "cell_type": "code",
   "execution_count": 73,
   "id": "9287b89d-d7de-4e10-b45f-764d7186c247",
   "metadata": {},
   "outputs": [],
   "source": [
    "if not op.isdir('_data'):\n",
    "    os.mkdir('_data')\n",
    "    \n",
    "def download_if_not_exists(fname, url):\n",
    "    '''If the file `fname` does not exist in the '_data/' folder, download it from `url` and save it in `'_data/'+fname`.'''\n",
    "    fpath = op.join('_data', fname)\n",
    "    if not op.isfile(fpath):      \n",
    "        r = requests.get(url, allow_redirects=True)\n",
    "        r.raise_for_status()\n",
    "        with open(fpath, 'wb') as f:\n",
    "            f.write(r.content)\n",
    "    return fpath"
   ]
  },
  {
   "cell_type": "markdown",
   "id": "189feabc-dcb5-4184-8b71-b2fb1a485c6e",
   "metadata": {
    "slideshow": {
     "slide_type": "fragment"
    },
    "tags": []
   },
   "source": [
    "### Ventilator Data"
   ]
  },
  {
   "cell_type": "code",
   "execution_count": 63,
   "id": "967af389-6810-4657-a08d-fbe282fb0c9b",
   "metadata": {},
   "outputs": [
    {
     "data": {
      "application/vnd.jupyter.widget-view+json": {
       "model_id": "5a3eaf92583f4c3e9feed0be1ddc02ee",
       "version_major": 2,
       "version_minor": 0
      },
      "text/plain": [
       "  0%|          | 0/26 [00:00<?, ?it/s]"
      ]
     },
     "metadata": {},
     "output_type": "display_data"
    }
   ],
   "source": [
    "# Get the ventilator occupancy time series\n",
    "cantons = ['Kanton_' + k for k in 'AG AI AR BE BL BS FR GE GL GR JU LU NE NW OW SG SH SO SZ TG TI UR VD ZG ZH'.split()] + ['FL']\n",
    "data = None\n",
    "for c in tqdm.tqdm_notebook(cantons):\n",
    "    fname = f'COVID19_Fallzahlen_{c}_total.csv'\n",
    "    fpath = download_if_not_exists(fname, 'https://raw.githubusercontent.com/openZH/covid_19/master/fallzahlen_kanton_total_csv_v2/' + fname)\n",
    "    df = pd.read_csv(fpath, parse_dates=[['date', 'time']])\n",
    "    data = pd.concat((data, df)) if data is not None else df\n",
    "\n",
    "data.set_index(['abbreviation_canton_and_fl', 'date_time'], inplace=True)"
   ]
  },
  {
   "cell_type": "markdown",
   "id": "759f9aa2-1a09-43d1-bfb8-fab317e8852c",
   "metadata": {},
   "source": [
    "### Incidence Data"
   ]
  },
  {
   "cell_type": "code",
   "execution_count": 74,
   "id": "7813d9f9-8186-4e42-9051-5babbb32000c",
   "metadata": {},
   "outputs": [],
   "source": [
    "fname = 'sources-csv.zip'\n",
    "fpath = download_if_not_exists(fname, 'https://www.covid19.admin.ch/api/data/20211112-b5cqnmme/downloads/' + fname)\n",
    "with ZipFile(fpath) as zf:\n",
    "    with zf.open(f'data/COVID19Cases_vaccpersons_AKL10_w.csv') as f:\n",
    "        df = pd.read_csv(f)"
   ]
  },
  {
   "cell_type": "markdown",
   "id": "5655f3c3-9b58-41f1-80a4-3898fd7de974",
   "metadata": {},
   "source": [
    "## Cleanup and Pre-Processing of Data"
   ]
  },
  {
   "cell_type": "markdown",
   "id": "4345977f-a8d1-4bc8-a32a-d2d2ab92a576",
   "metadata": {
    "tags": []
   },
   "source": [
    "## Model"
   ]
  },
  {
   "cell_type": "markdown",
   "id": "0324d887-35d9-461e-a72f-730e68348ce6",
   "metadata": {},
   "source": [
    "#### Total occupation at time $T$ is the sum of the occupations by cohorts (by age-group $i$ and vaccination status $j$)\n",
    "\\begin{equation}\n",
    "    \\Large V(T) = \\sum_{i=1}^{N_i} \\sum_{j=1}^{N_j} V_{ij}(T)\n",
    "\\end{equation}\n",
    "\n",
    "#### The occupations by cohort $V_{ij}$ are the cumulative sum of incremental changes\n",
    "\\begin{equation}\n",
    "    \\Large V_{ij}(T) = \\sum_{t=0}^T \\Delta V_{ij}(t)\n",
    "\\end{equation}\n",
    "\n",
    "#### The incremental changes $\\Delta V_{ij}$ are the balance between entries $E_{ij}$ and exits $A_{ij}$\n",
    "\\begin{equation}\n",
    "    \\Large \\Delta V_{ij}(t) = E_{ij}(t) - A_{ij}(t)\n",
    "\\end{equation}\n",
    "\n",
    "#### The entries $E_{ij}$ at time $t$ are modelled as a fraction $\\alpha_{ij}$ of the incidence number $I_{ij}$ at time $t - \\tau_E$\n",
    "\\begin{equation}\n",
    "    \\Large E_{ij}(t) = \\alpha_{ij} I_{ij}(t-\\tau_E)\n",
    "\\end{equation}\n",
    "\n",
    "#### The exits $A_{ij}$ at time $t$ are modelled as the entries at time $t - \\tau_A$\n",
    "\\begin{equation}\n",
    "    \\Large A_{ij}(t) = E_{ij}(t - \\tau_A)\n",
    "\\end{equation}\n",
    "\n",
    "#### Putting things together, the model reads as\n",
    "\\begin{equation}\n",
    "    \\Large V(T) = \\sum_{i=1}^{N_i} \\sum_{j=1}^{N_j} \\sum_{t=0}^T \\alpha_{ij} \\left(I_{ij}(t - \\tau_E) - I_{ij}(t - \\tau_A)\\right)\n",
    "\\end{equation}\n",
    "\n",
    "#### The parameters of the model are the _conversion factors_ $\\alpha_{ij}$ and the time offsets $\\tau_E$ and $\\tau_A$."
   ]
  },
  {
   "cell_type": "code",
   "execution_count": 72,
   "id": "1eb34ade-7743-43cf-a476-7657ec84cc81",
   "metadata": {},
   "outputs": [],
   "source": [
    "def apply_model(inc, alpha, tau_e, tau_a):\n",
    "    '''Model for the estimation of ventilator occupation given incidence time series\n",
    "    \n",
    "    Parameters\n",
    "    ----------\n",
    "    inc: pd.DataFrame\n",
    "      DataFrame with incidence numbers with a multi-level index. Levels must be:\n",
    "          * level=0: int, week numbers, named 't'\n",
    "          * level=1: str, age-group, named 'age_group'\n",
    "          * level=2: str, vaccination status, named 'vacc_status'\n",
    "    alpha: pd.DataFrame\n",
    "      Model parameters representing the _conversion factors_ from the incidence\n",
    "      numbers to the number of patients requiring ventilation. The multi-level\n",
    "      index must contain a value in the range [0, 1] for each combination of\n",
    "      age-group and vaccination status.\n",
    "    tau_e: int\n",
    "      Model parameter describing the number of weeks that passes between\n",
    "      infection and a patient being attached to a ventilator.\n",
    "    tau_a: int\n",
    "      Model parameter describing the number of weeks that passes between\n",
    "      infection and a patient either no longer requires the ventilator\n",
    "      or is deceased.\n",
    "    \n",
    "    Returns\n",
    "    -------\n",
    "    pd.DataFrame\n",
    "      A time-series predicting the ventilator occupancy.\n",
    "    '''\n",
    "    \n",
    "    # build grouping by age and vaccination status\n",
    "    inc_grp = inc.groupby(level=['age_group', 'vacc_status'])\n",
    "    # shift the groups and calculate the difference\n",
    "    delta = inc_grp.shift(tau_e) - inc_grp.shift(tau_a)\n",
    "    # for each group, multiply the difference with the conversion factor\n",
    "    for i in inc.index.unique('age_group'):\n",
    "        for j in inc.index.unique('vacc_status'):\n",
    "            delta[:, i, j] *= alpha[i, j]\n",
    "    # for each group calculate the cumulative sum\n",
    "    vij = delta.groupby(level=['age_group', 'vacc_status']).cumsum()\n",
    "    # calculate total occupation by summing over the groups\n",
    "    v = vij.groupby(level='t').sum()\n",
    "    return v\n",
    "    "
   ]
  }
 ],
 "metadata": {
  "kernelspec": {
   "display_name": "Python 3 (ipykernel)",
   "language": "python",
   "name": "python3"
  },
  "language_info": {
   "codemirror_mode": {
    "name": "ipython",
    "version": 3
   },
   "file_extension": ".py",
   "mimetype": "text/x-python",
   "name": "python",
   "nbconvert_exporter": "python",
   "pygments_lexer": "ipython3",
   "version": "3.9.7"
  },
  "toc-showcode": false
 },
 "nbformat": 4,
 "nbformat_minor": 5
}
