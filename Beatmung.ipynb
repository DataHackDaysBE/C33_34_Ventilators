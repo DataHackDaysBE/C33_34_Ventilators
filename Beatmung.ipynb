{
 "cells": [
  {
   "cell_type": "markdown",
   "id": "84fc859f-59b0-4efa-9a9f-6ca6e5c52093",
   "metadata": {
    "slideshow": {
     "slide_type": "slide"
    },
    "tags": []
   },
   "source": [
    "# C33/C34 Beatmungsgeräte\n",
    "> Manuel Vazquez  \n",
    "> Christian Spiller  \n",
    "> Michael Wild"
   ]
  },
  {
   "cell_type": "markdown",
   "id": "2b8914d9-34ac-41ca-9389-9b27767b2655",
   "metadata": {
    "jp-MarkdownHeadingCollapsed": true,
    "slideshow": {
     "slide_type": "fragment"
    },
    "tags": []
   },
   "source": [
    "## Imports"
   ]
  },
  {
   "cell_type": "code",
   "execution_count": 232,
   "id": "631caeb9-21bc-46e6-b5ca-0e73d357690a",
   "metadata": {},
   "outputs": [],
   "source": [
    "import pandas as pd\n",
    "import requests\n",
    "from zipfile import ZipFile\n",
    "import os, os.path as op\n",
    "import tqdm.notebook as tqdm\n",
    "import plotly.express as px, plotly.graph_objects as go\n",
    "from ipywidgets import interact"
   ]
  },
  {
   "cell_type": "markdown",
   "id": "2da2f76c-95c1-4721-b8c3-ac06fe75cc80",
   "metadata": {
    "jp-MarkdownHeadingCollapsed": true,
    "slideshow": {
     "slide_type": "fragment"
    },
    "tags": []
   },
   "source": [
    "## Load Data"
   ]
  },
  {
   "cell_type": "code",
   "execution_count": 2,
   "id": "9287b89d-d7de-4e10-b45f-764d7186c247",
   "metadata": {},
   "outputs": [],
   "source": [
    "if not op.isdir('_data'):\n",
    "    os.mkdir('_data')\n",
    "    \n",
    "def download_if_not_exists(fname, url):\n",
    "    '''If the file `fname` does not exist in the '_data/' folder, download it from `url` and save it in `'_data/'+fname`.'''\n",
    "    fpath = op.join('_data', fname)\n",
    "    if not op.isfile(fpath):      \n",
    "        r = requests.get(url, allow_redirects=True)\n",
    "        r.raise_for_status()\n",
    "        with open(fpath, 'wb') as f:\n",
    "            f.write(r.content)\n",
    "    return fpath"
   ]
  },
  {
   "cell_type": "markdown",
   "id": "189feabc-dcb5-4184-8b71-b2fb1a485c6e",
   "metadata": {
    "slideshow": {
     "slide_type": "fragment"
    },
    "tags": []
   },
   "source": [
    "### Ventilator Data"
   ]
  },
  {
   "cell_type": "code",
   "execution_count": 3,
   "id": "967af389-6810-4657-a08d-fbe282fb0c9b",
   "metadata": {},
   "outputs": [
    {
     "data": {
      "application/vnd.jupyter.widget-view+json": {
       "model_id": "7368c54f19cf46f3ad7fd5c4d0805b8f",
       "version_major": 2,
       "version_minor": 0
      },
      "text/plain": [
       "  0%|          | 0/26 [00:00<?, ?it/s]"
      ]
     },
     "metadata": {},
     "output_type": "display_data"
    }
   ],
   "source": [
    "# Get the ventilator occupancy time series\n",
    "cantons = ['Kanton_' + k for k in 'AG AI AR BE BL BS FR GE GL GR JU LU NE NW OW SG SH SO SZ TG TI UR VD ZG ZH'.split()] + ['FL']\n",
    "data = None\n",
    "for c in tqdm.tqdm_notebook(cantons):\n",
    "    fname = f'COVID19_Fallzahlen_{c}_total.csv'\n",
    "    fpath = download_if_not_exists(fname, 'https://raw.githubusercontent.com/openZH/covid_19/master/fallzahlen_kanton_total_csv_v2/' + fname)\n",
    "    df = pd.read_csv(fpath, parse_dates=[['date', 'time']])\n",
    "    data = pd.concat((data, df)) if data is not None else df\n",
    "\n",
    "data.set_index(['abbreviation_canton_and_fl', 'date_time'], inplace=True)"
   ]
  },
  {
   "cell_type": "markdown",
   "id": "759f9aa2-1a09-43d1-bfb8-fab317e8852c",
   "metadata": {},
   "source": [
    "### Incidence Data"
   ]
  },
  {
   "cell_type": "code",
   "execution_count": 83,
   "id": "7813d9f9-8186-4e42-9051-5babbb32000c",
   "metadata": {},
   "outputs": [],
   "source": [
    "fname = 'sources-csv.zip'\n",
    "fpath = download_if_not_exists(fname, 'https://www.covid19.admin.ch/api/data/20211112-b5cqnmme/downloads/' + fname)\n",
    "inc_raw = None\n",
    "with ZipFile(fpath) as zf:\n",
    "    with zf.open(f'data/COVID19Cases_geoRegion_AKL10_w.csv') as f:\n",
    "        inc_raw = pd.read_csv(f)"
   ]
  },
  {
   "cell_type": "markdown",
   "id": "5655f3c3-9b58-41f1-80a4-3898fd7de974",
   "metadata": {
    "jp-MarkdownHeadingCollapsed": true,
    "tags": []
   },
   "source": [
    "## Cleanup and Pre-Processing of Data"
   ]
  },
  {
   "cell_type": "code",
   "execution_count": 174,
   "id": "72832a08-51c5-4a71-bb3f-795b6cbdb05c",
   "metadata": {},
   "outputs": [],
   "source": [
    "inc = inc_raw[[\"datum\", \"entries\", \"altersklasse_covid19\", \"geoRegion\"]]\n",
    "inc = inc.rename(\n",
    "    columns={\n",
    "        \"altersklasse_covid19\": \"age_group\",\n",
    "    }\n",
    ")\n",
    "\n",
    "# correct date\n",
    "# -> split years\n",
    "inc_2020 = inc.loc[inc[\"datum\"] < 202100]\n",
    "inc_2021 = inc.loc[inc[\"datum\"] >= 202100]\n",
    "\n",
    "# -> convert 2020xy to xy\n",
    "inc_2020 = inc_2020.copy()\n",
    "inc_2020[\"t\"] = inc_2020[\"datum\"] - 202000\n",
    "\n",
    "# -> convert 2021xy to xy+53\n",
    "inc_2021 = inc_2021.copy()\n",
    "inc_2021[\"t\"] = inc_2021[\"datum\"] - 202100 + 53\n",
    "\n",
    "# -> put together\n",
    "inc = pd.concat([inc_2020, inc_2021], axis=0)\n",
    "inc.drop(columns=[\"datum\"], inplace=True)\n",
    "\n",
    "# Set Index\n",
    "inc = inc.copy()\n",
    "inc.set_index(['t', 'age_group', 'geoRegion'], inplace=True)\n",
    "\n",
    "# fill missing values\n",
    "tmp = inc.reset_index().pivot(index=['t', 'geoRegion'], values='entries', columns=['age_group']).fillna(0).reset_index()\n",
    "tmp.drop(columns='Unbekannt', inplace=True)\n",
    "inc = tmp.melt(id_vars=['t', 'geoRegion'], value_name='entries').set_index(['t', 'age_group', 'geoRegion'])"
   ]
  },
  {
   "cell_type": "code",
   "execution_count": 175,
   "id": "431bee6a-9675-4e39-8003-7d2fd9cd821d",
   "metadata": {},
   "outputs": [
    {
     "data": {
      "application/vnd.plotly.v1+json": {
       "config": {
        "plotlyServerURL": "https://plot.ly"
       },
       "data": [
        {
         "hovertemplate": "age_group=0 - 9<br>geoRegion=BE<br>t=%{x}<br>entries=%{y}<extra></extra>",
         "legendgroup": "0 - 9",
         "line": {
          "color": "#636efa",
          "dash": "solid"
         },
         "marker": {
          "symbol": "circle"
         },
         "mode": "lines",
         "name": "0 - 9",
         "orientation": "v",
         "showlegend": true,
         "type": "scatter",
         "x": [
          9,
          10,
          11,
          12,
          13,
          14,
          15,
          16,
          17,
          18,
          19,
          20,
          21,
          22,
          23,
          24,
          25,
          26,
          27,
          28,
          29,
          30,
          31,
          32,
          33,
          34,
          35,
          36,
          37,
          38,
          39,
          40,
          41,
          42,
          43,
          44,
          45,
          46,
          47,
          48,
          49,
          50,
          51,
          52,
          53,
          54,
          55,
          56,
          57,
          58,
          59,
          60,
          61,
          62,
          63,
          64,
          65,
          66,
          67,
          68,
          69,
          70,
          71,
          72,
          73,
          74,
          75,
          76,
          77,
          78,
          79,
          80,
          81,
          82,
          83,
          84,
          85,
          86,
          87,
          88,
          89,
          90,
          91,
          92,
          93,
          94,
          95,
          96,
          97
         ],
         "xaxis": "x",
         "y": [
          0,
          1,
          0,
          4,
          1,
          0,
          1,
          1,
          0,
          1,
          0,
          0,
          2,
          0,
          0,
          3,
          0,
          0,
          0,
          0,
          2,
          1,
          3,
          3,
          4,
          4,
          3,
          2,
          0,
          2,
          0,
          0,
          3,
          12,
          29,
          36,
          50,
          39,
          30,
          26,
          17,
          42,
          40,
          29,
          19,
          17,
          19,
          40,
          32,
          37,
          30,
          14,
          26,
          27,
          32,
          41,
          51,
          60,
          52,
          34,
          36,
          43,
          40,
          55,
          61,
          29,
          18,
          6,
          6,
          2,
          1,
          2,
          6,
          8,
          6,
          17,
          69,
          139,
          273,
          272,
          244,
          114,
          76,
          72,
          32,
          34,
          58,
          105,
          277
         ],
         "yaxis": "y"
        },
        {
         "hovertemplate": "age_group=10 - 19<br>geoRegion=BE<br>t=%{x}<br>entries=%{y}<extra></extra>",
         "legendgroup": "10 - 19",
         "line": {
          "color": "#EF553B",
          "dash": "solid"
         },
         "marker": {
          "symbol": "circle"
         },
         "mode": "lines",
         "name": "10 - 19",
         "orientation": "v",
         "showlegend": true,
         "type": "scatter",
         "x": [
          9,
          10,
          11,
          12,
          13,
          14,
          15,
          16,
          17,
          18,
          19,
          20,
          21,
          22,
          23,
          24,
          25,
          26,
          27,
          28,
          29,
          30,
          31,
          32,
          33,
          34,
          35,
          36,
          37,
          38,
          39,
          40,
          41,
          42,
          43,
          44,
          45,
          46,
          47,
          48,
          49,
          50,
          51,
          52,
          53,
          54,
          55,
          56,
          57,
          58,
          59,
          60,
          61,
          62,
          63,
          64,
          65,
          66,
          67,
          68,
          69,
          70,
          71,
          72,
          73,
          74,
          75,
          76,
          77,
          78,
          79,
          80,
          81,
          82,
          83,
          84,
          85,
          86,
          87,
          88,
          89,
          90,
          91,
          92,
          93,
          94,
          95,
          96,
          97
         ],
         "xaxis": "x",
         "y": [
          1,
          2,
          1,
          15,
          11,
          11,
          11,
          5,
          11,
          1,
          2,
          1,
          1,
          0,
          3,
          3,
          1,
          2,
          1,
          3,
          4,
          0,
          5,
          13,
          8,
          14,
          22,
          19,
          25,
          34,
          11,
          26,
          61,
          147,
          365,
          536,
          443,
          334,
          225,
          245,
          282,
          305,
          261,
          178,
          195,
          202,
          150,
          147,
          111,
          112,
          110,
          67,
          88,
          82,
          105,
          114,
          160,
          171,
          159,
          146,
          136,
          181,
          151,
          139,
          192,
          86,
          50,
          43,
          7,
          16,
          16,
          24,
          36,
          60,
          88,
          151,
          305,
          374,
          478,
          463,
          429,
          370,
          196,
          117,
          78,
          68,
          123,
          299,
          558
         ],
         "yaxis": "y"
        },
        {
         "hovertemplate": "age_group=20 - 29<br>geoRegion=BE<br>t=%{x}<br>entries=%{y}<extra></extra>",
         "legendgroup": "20 - 29",
         "line": {
          "color": "#00cc96",
          "dash": "solid"
         },
         "marker": {
          "symbol": "circle"
         },
         "mode": "lines",
         "name": "20 - 29",
         "orientation": "v",
         "showlegend": true,
         "type": "scatter",
         "x": [
          9,
          10,
          11,
          12,
          13,
          14,
          15,
          16,
          17,
          18,
          19,
          20,
          21,
          22,
          23,
          24,
          25,
          26,
          27,
          28,
          29,
          30,
          31,
          32,
          33,
          34,
          35,
          36,
          37,
          38,
          39,
          40,
          41,
          42,
          43,
          44,
          45,
          46,
          47,
          48,
          49,
          50,
          51,
          52,
          53,
          54,
          55,
          56,
          57,
          58,
          59,
          60,
          61,
          62,
          63,
          64,
          65,
          66,
          67,
          68,
          69,
          70,
          71,
          72,
          73,
          74,
          75,
          76,
          77,
          78,
          79,
          80,
          81,
          82,
          83,
          84,
          85,
          86,
          87,
          88,
          89,
          90,
          91,
          92,
          93,
          94,
          95,
          96,
          97
         ],
         "xaxis": "x",
         "y": [
          1,
          3,
          15,
          54,
          49,
          39,
          47,
          22,
          26,
          14,
          6,
          1,
          2,
          3,
          1,
          2,
          4,
          3,
          14,
          9,
          16,
          12,
          12,
          15,
          39,
          31,
          38,
          45,
          52,
          64,
          44,
          74,
          195,
          346,
          687,
          900,
          776,
          625,
          494,
          454,
          459,
          512,
          513,
          409,
          431,
          438,
          258,
          213,
          164,
          130,
          128,
          111,
          117,
          93,
          97,
          141,
          231,
          186,
          246,
          236,
          247,
          188,
          179,
          129,
          159,
          113,
          43,
          39,
          17,
          12,
          16,
          57,
          121,
          107,
          151,
          314,
          473,
          379,
          342,
          317,
          272,
          216,
          165,
          157,
          117,
          102,
          150,
          167,
          242
         ],
         "yaxis": "y"
        },
        {
         "hovertemplate": "age_group=30 - 39<br>geoRegion=BE<br>t=%{x}<br>entries=%{y}<extra></extra>",
         "legendgroup": "30 - 39",
         "line": {
          "color": "#ab63fa",
          "dash": "solid"
         },
         "marker": {
          "symbol": "circle"
         },
         "mode": "lines",
         "name": "30 - 39",
         "orientation": "v",
         "showlegend": true,
         "type": "scatter",
         "x": [
          9,
          10,
          11,
          12,
          13,
          14,
          15,
          16,
          17,
          18,
          19,
          20,
          21,
          22,
          23,
          24,
          25,
          26,
          27,
          28,
          29,
          30,
          31,
          32,
          33,
          34,
          35,
          36,
          37,
          38,
          39,
          40,
          41,
          42,
          43,
          44,
          45,
          46,
          47,
          48,
          49,
          50,
          51,
          52,
          53,
          54,
          55,
          56,
          57,
          58,
          59,
          60,
          61,
          62,
          63,
          64,
          65,
          66,
          67,
          68,
          69,
          70,
          71,
          72,
          73,
          74,
          75,
          76,
          77,
          78,
          79,
          80,
          81,
          82,
          83,
          84,
          85,
          86,
          87,
          88,
          89,
          90,
          91,
          92,
          93,
          94,
          95,
          96,
          97
         ],
         "xaxis": "x",
         "y": [
          0,
          6,
          20,
          57,
          39,
          48,
          27,
          23,
          15,
          16,
          5,
          3,
          3,
          3,
          0,
          4,
          0,
          3,
          3,
          7,
          4,
          12,
          12,
          10,
          21,
          17,
          23,
          30,
          29,
          57,
          38,
          57,
          139,
          301,
          638,
          813,
          700,
          549,
          466,
          427,
          490,
          525,
          563,
          418,
          383,
          380,
          250,
          190,
          172,
          138,
          109,
          97,
          119,
          83,
          107,
          123,
          157,
          178,
          214,
          207,
          220,
          193,
          173,
          143,
          121,
          86,
          48,
          46,
          24,
          18,
          12,
          20,
          43,
          51,
          49,
          131,
          280,
          356,
          316,
          328,
          313,
          233,
          195,
          150,
          118,
          121,
          139,
          179,
          310
         ],
         "yaxis": "y"
        },
        {
         "hovertemplate": "age_group=40 - 49<br>geoRegion=BE<br>t=%{x}<br>entries=%{y}<extra></extra>",
         "legendgroup": "40 - 49",
         "line": {
          "color": "#FFA15A",
          "dash": "solid"
         },
         "marker": {
          "symbol": "circle"
         },
         "mode": "lines",
         "name": "40 - 49",
         "orientation": "v",
         "showlegend": true,
         "type": "scatter",
         "x": [
          9,
          10,
          11,
          12,
          13,
          14,
          15,
          16,
          17,
          18,
          19,
          20,
          21,
          22,
          23,
          24,
          25,
          26,
          27,
          28,
          29,
          30,
          31,
          32,
          33,
          34,
          35,
          36,
          37,
          38,
          39,
          40,
          41,
          42,
          43,
          44,
          45,
          46,
          47,
          48,
          49,
          50,
          51,
          52,
          53,
          54,
          55,
          56,
          57,
          58,
          59,
          60,
          61,
          62,
          63,
          64,
          65,
          66,
          67,
          68,
          69,
          70,
          71,
          72,
          73,
          74,
          75,
          76,
          77,
          78,
          79,
          80,
          81,
          82,
          83,
          84,
          85,
          86,
          87,
          88,
          89,
          90,
          91,
          92,
          93,
          94,
          95,
          96,
          97
         ],
         "xaxis": "x",
         "y": [
          0,
          4,
          18,
          69,
          54,
          48,
          33,
          18,
          14,
          11,
          2,
          3,
          2,
          0,
          0,
          1,
          0,
          1,
          3,
          5,
          4,
          4,
          6,
          6,
          13,
          9,
          17,
          17,
          30,
          58,
          40,
          49,
          101,
          304,
          580,
          789,
          713,
          513,
          461,
          402,
          435,
          527,
          461,
          440,
          382,
          346,
          230,
          162,
          170,
          125,
          93,
          93,
          74,
          102,
          92,
          111,
          170,
          162,
          213,
          209,
          196,
          164,
          202,
          129,
          108,
          86,
          47,
          38,
          10,
          8,
          13,
          16,
          23,
          38,
          44,
          102,
          235,
          249,
          236,
          289,
          247,
          171,
          141,
          115,
          85,
          80,
          112,
          203,
          331
         ],
         "yaxis": "y"
        },
        {
         "hovertemplate": "age_group=50 - 59<br>geoRegion=BE<br>t=%{x}<br>entries=%{y}<extra></extra>",
         "legendgroup": "50 - 59",
         "line": {
          "color": "#19d3f3",
          "dash": "solid"
         },
         "marker": {
          "symbol": "circle"
         },
         "mode": "lines",
         "name": "50 - 59",
         "orientation": "v",
         "showlegend": true,
         "type": "scatter",
         "x": [
          9,
          10,
          11,
          12,
          13,
          14,
          15,
          16,
          17,
          18,
          19,
          20,
          21,
          22,
          23,
          24,
          25,
          26,
          27,
          28,
          29,
          30,
          31,
          32,
          33,
          34,
          35,
          36,
          37,
          38,
          39,
          40,
          41,
          42,
          43,
          44,
          45,
          46,
          47,
          48,
          49,
          50,
          51,
          52,
          53,
          54,
          55,
          56,
          57,
          58,
          59,
          60,
          61,
          62,
          63,
          64,
          65,
          66,
          67,
          68,
          69,
          70,
          71,
          72,
          73,
          74,
          75,
          76,
          77,
          78,
          79,
          80,
          81,
          82,
          83,
          84,
          85,
          86,
          87,
          88,
          89,
          90,
          91,
          92,
          93,
          94,
          95,
          96,
          97
         ],
         "xaxis": "x",
         "y": [
          0,
          6,
          28,
          86,
          71,
          74,
          49,
          26,
          20,
          11,
          6,
          4,
          2,
          3,
          2,
          2,
          3,
          1,
          3,
          7,
          11,
          1,
          14,
          7,
          10,
          13,
          12,
          25,
          31,
          61,
          59,
          66,
          116,
          283,
          590,
          816,
          708,
          558,
          488,
          474,
          489,
          562,
          576,
          472,
          422,
          374,
          257,
          194,
          181,
          134,
          107,
          69,
          104,
          95,
          93,
          103,
          141,
          153,
          212,
          202,
          212,
          158,
          171,
          152,
          107,
          86,
          42,
          26,
          16,
          10,
          2,
          16,
          22,
          33,
          52,
          85,
          154,
          159,
          173,
          185,
          169,
          154,
          119,
          88,
          59,
          74,
          111,
          161,
          244
         ],
         "yaxis": "y"
        },
        {
         "hovertemplate": "age_group=60 - 69<br>geoRegion=BE<br>t=%{x}<br>entries=%{y}<extra></extra>",
         "legendgroup": "60 - 69",
         "line": {
          "color": "#FF6692",
          "dash": "solid"
         },
         "marker": {
          "symbol": "circle"
         },
         "mode": "lines",
         "name": "60 - 69",
         "orientation": "v",
         "showlegend": true,
         "type": "scatter",
         "x": [
          9,
          10,
          11,
          12,
          13,
          14,
          15,
          16,
          17,
          18,
          19,
          20,
          21,
          22,
          23,
          24,
          25,
          26,
          27,
          28,
          29,
          30,
          31,
          32,
          33,
          34,
          35,
          36,
          37,
          38,
          39,
          40,
          41,
          42,
          43,
          44,
          45,
          46,
          47,
          48,
          49,
          50,
          51,
          52,
          53,
          54,
          55,
          56,
          57,
          58,
          59,
          60,
          61,
          62,
          63,
          64,
          65,
          66,
          67,
          68,
          69,
          70,
          71,
          72,
          73,
          74,
          75,
          76,
          77,
          78,
          79,
          80,
          81,
          82,
          83,
          84,
          85,
          86,
          87,
          88,
          89,
          90,
          91,
          92,
          93,
          94,
          95,
          96,
          97
         ],
         "xaxis": "x",
         "y": [
          0,
          5,
          11,
          49,
          60,
          44,
          21,
          11,
          12,
          5,
          2,
          3,
          3,
          0,
          1,
          0,
          1,
          2,
          5,
          6,
          5,
          2,
          5,
          6,
          9,
          6,
          7,
          8,
          13,
          25,
          19,
          40,
          54,
          183,
          364,
          492,
          481,
          280,
          278,
          268,
          280,
          386,
          420,
          293,
          286,
          205,
          118,
          110,
          107,
          85,
          56,
          55,
          59,
          70,
          63,
          71,
          80,
          82,
          115,
          112,
          114,
          88,
          69,
          58,
          50,
          28,
          21,
          17,
          4,
          4,
          5,
          3,
          10,
          11,
          20,
          27,
          68,
          89,
          90,
          78,
          79,
          59,
          49,
          53,
          45,
          53,
          67,
          96,
          129
         ],
         "yaxis": "y"
        },
        {
         "hovertemplate": "age_group=70 - 79<br>geoRegion=BE<br>t=%{x}<br>entries=%{y}<extra></extra>",
         "legendgroup": "70 - 79",
         "line": {
          "color": "#B6E880",
          "dash": "solid"
         },
         "marker": {
          "symbol": "circle"
         },
         "mode": "lines",
         "name": "70 - 79",
         "orientation": "v",
         "showlegend": true,
         "type": "scatter",
         "x": [
          9,
          10,
          11,
          12,
          13,
          14,
          15,
          16,
          17,
          18,
          19,
          20,
          21,
          22,
          23,
          24,
          25,
          26,
          27,
          28,
          29,
          30,
          31,
          32,
          33,
          34,
          35,
          36,
          37,
          38,
          39,
          40,
          41,
          42,
          43,
          44,
          45,
          46,
          47,
          48,
          49,
          50,
          51,
          52,
          53,
          54,
          55,
          56,
          57,
          58,
          59,
          60,
          61,
          62,
          63,
          64,
          65,
          66,
          67,
          68,
          69,
          70,
          71,
          72,
          73,
          74,
          75,
          76,
          77,
          78,
          79,
          80,
          81,
          82,
          83,
          84,
          85,
          86,
          87,
          88,
          89,
          90,
          91,
          92,
          93,
          94,
          95,
          96,
          97
         ],
         "xaxis": "x",
         "y": [
          0,
          3,
          2,
          26,
          45,
          29,
          20,
          9,
          6,
          0,
          4,
          1,
          2,
          0,
          0,
          0,
          1,
          0,
          0,
          2,
          5,
          2,
          4,
          4,
          5,
          3,
          1,
          8,
          6,
          8,
          18,
          24,
          45,
          135,
          262,
          330,
          274,
          198,
          204,
          203,
          220,
          280,
          271,
          201,
          168,
          159,
          113,
          72,
          54,
          40,
          51,
          22,
          36,
          31,
          35,
          35,
          35,
          24,
          44,
          34,
          55,
          37,
          39,
          18,
          21,
          12,
          10,
          6,
          2,
          0,
          1,
          1,
          4,
          3,
          8,
          13,
          25,
          30,
          45,
          43,
          39,
          43,
          42,
          23,
          22,
          14,
          43,
          52,
          98
         ],
         "yaxis": "y"
        },
        {
         "hovertemplate": "age_group=80+<br>geoRegion=BE<br>t=%{x}<br>entries=%{y}<extra></extra>",
         "legendgroup": "80+",
         "line": {
          "color": "#FF97FF",
          "dash": "solid"
         },
         "marker": {
          "symbol": "circle"
         },
         "mode": "lines",
         "name": "80+",
         "orientation": "v",
         "showlegend": true,
         "type": "scatter",
         "x": [
          9,
          10,
          11,
          12,
          13,
          14,
          15,
          16,
          17,
          18,
          19,
          20,
          21,
          22,
          23,
          24,
          25,
          26,
          27,
          28,
          29,
          30,
          31,
          32,
          33,
          34,
          35,
          36,
          37,
          38,
          39,
          40,
          41,
          42,
          43,
          44,
          45,
          46,
          47,
          48,
          49,
          50,
          51,
          52,
          53,
          54,
          55,
          56,
          57,
          58,
          59,
          60,
          61,
          62,
          63,
          64,
          65,
          66,
          67,
          68,
          69,
          70,
          71,
          72,
          73,
          74,
          75,
          76,
          77,
          78,
          79,
          80,
          81,
          82,
          83,
          84,
          85,
          86,
          87,
          88,
          89,
          90,
          91,
          92,
          93,
          94,
          95,
          96,
          97
         ],
         "xaxis": "x",
         "y": [
          0,
          2,
          7,
          14,
          29,
          69,
          42,
          26,
          2,
          8,
          11,
          3,
          1,
          0,
          0,
          0,
          0,
          1,
          0,
          0,
          3,
          0,
          2,
          0,
          0,
          0,
          0,
          0,
          6,
          6,
          8,
          10,
          26,
          84,
          213,
          284,
          324,
          323,
          262,
          331,
          307,
          336,
          370,
          276,
          232,
          182,
          139,
          136,
          99,
          81,
          60,
          26,
          29,
          20,
          18,
          21,
          30,
          32,
          17,
          21,
          24,
          29,
          20,
          7,
          15,
          12,
          7,
          3,
          0,
          0,
          0,
          1,
          7,
          6,
          6,
          9,
          20,
          32,
          38,
          39,
          27,
          30,
          34,
          21,
          25,
          14,
          36,
          28,
          86
         ],
         "yaxis": "y"
        }
       ],
       "layout": {
        "annotations": [
         {
          "font": {},
          "showarrow": false,
          "text": "geoRegion=BE",
          "x": 0.5,
          "xanchor": "center",
          "xref": "paper",
          "y": 1,
          "yanchor": "bottom",
          "yref": "paper"
         }
        ],
        "autosize": true,
        "legend": {
         "title": {
          "text": "age_group"
         },
         "tracegroupgap": 0
        },
        "template": {
         "data": {
          "bar": [
           {
            "error_x": {
             "color": "#2a3f5f"
            },
            "error_y": {
             "color": "#2a3f5f"
            },
            "marker": {
             "line": {
              "color": "#E5ECF6",
              "width": 0.5
             },
             "pattern": {
              "fillmode": "overlay",
              "size": 10,
              "solidity": 0.2
             }
            },
            "type": "bar"
           }
          ],
          "barpolar": [
           {
            "marker": {
             "line": {
              "color": "#E5ECF6",
              "width": 0.5
             },
             "pattern": {
              "fillmode": "overlay",
              "size": 10,
              "solidity": 0.2
             }
            },
            "type": "barpolar"
           }
          ],
          "carpet": [
           {
            "aaxis": {
             "endlinecolor": "#2a3f5f",
             "gridcolor": "white",
             "linecolor": "white",
             "minorgridcolor": "white",
             "startlinecolor": "#2a3f5f"
            },
            "baxis": {
             "endlinecolor": "#2a3f5f",
             "gridcolor": "white",
             "linecolor": "white",
             "minorgridcolor": "white",
             "startlinecolor": "#2a3f5f"
            },
            "type": "carpet"
           }
          ],
          "choropleth": [
           {
            "colorbar": {
             "outlinewidth": 0,
             "ticks": ""
            },
            "type": "choropleth"
           }
          ],
          "contour": [
           {
            "colorbar": {
             "outlinewidth": 0,
             "ticks": ""
            },
            "colorscale": [
             [
              0,
              "#0d0887"
             ],
             [
              0.1111111111111111,
              "#46039f"
             ],
             [
              0.2222222222222222,
              "#7201a8"
             ],
             [
              0.3333333333333333,
              "#9c179e"
             ],
             [
              0.4444444444444444,
              "#bd3786"
             ],
             [
              0.5555555555555556,
              "#d8576b"
             ],
             [
              0.6666666666666666,
              "#ed7953"
             ],
             [
              0.7777777777777778,
              "#fb9f3a"
             ],
             [
              0.8888888888888888,
              "#fdca26"
             ],
             [
              1,
              "#f0f921"
             ]
            ],
            "type": "contour"
           }
          ],
          "contourcarpet": [
           {
            "colorbar": {
             "outlinewidth": 0,
             "ticks": ""
            },
            "type": "contourcarpet"
           }
          ],
          "heatmap": [
           {
            "colorbar": {
             "outlinewidth": 0,
             "ticks": ""
            },
            "colorscale": [
             [
              0,
              "#0d0887"
             ],
             [
              0.1111111111111111,
              "#46039f"
             ],
             [
              0.2222222222222222,
              "#7201a8"
             ],
             [
              0.3333333333333333,
              "#9c179e"
             ],
             [
              0.4444444444444444,
              "#bd3786"
             ],
             [
              0.5555555555555556,
              "#d8576b"
             ],
             [
              0.6666666666666666,
              "#ed7953"
             ],
             [
              0.7777777777777778,
              "#fb9f3a"
             ],
             [
              0.8888888888888888,
              "#fdca26"
             ],
             [
              1,
              "#f0f921"
             ]
            ],
            "type": "heatmap"
           }
          ],
          "heatmapgl": [
           {
            "colorbar": {
             "outlinewidth": 0,
             "ticks": ""
            },
            "colorscale": [
             [
              0,
              "#0d0887"
             ],
             [
              0.1111111111111111,
              "#46039f"
             ],
             [
              0.2222222222222222,
              "#7201a8"
             ],
             [
              0.3333333333333333,
              "#9c179e"
             ],
             [
              0.4444444444444444,
              "#bd3786"
             ],
             [
              0.5555555555555556,
              "#d8576b"
             ],
             [
              0.6666666666666666,
              "#ed7953"
             ],
             [
              0.7777777777777778,
              "#fb9f3a"
             ],
             [
              0.8888888888888888,
              "#fdca26"
             ],
             [
              1,
              "#f0f921"
             ]
            ],
            "type": "heatmapgl"
           }
          ],
          "histogram": [
           {
            "marker": {
             "pattern": {
              "fillmode": "overlay",
              "size": 10,
              "solidity": 0.2
             }
            },
            "type": "histogram"
           }
          ],
          "histogram2d": [
           {
            "colorbar": {
             "outlinewidth": 0,
             "ticks": ""
            },
            "colorscale": [
             [
              0,
              "#0d0887"
             ],
             [
              0.1111111111111111,
              "#46039f"
             ],
             [
              0.2222222222222222,
              "#7201a8"
             ],
             [
              0.3333333333333333,
              "#9c179e"
             ],
             [
              0.4444444444444444,
              "#bd3786"
             ],
             [
              0.5555555555555556,
              "#d8576b"
             ],
             [
              0.6666666666666666,
              "#ed7953"
             ],
             [
              0.7777777777777778,
              "#fb9f3a"
             ],
             [
              0.8888888888888888,
              "#fdca26"
             ],
             [
              1,
              "#f0f921"
             ]
            ],
            "type": "histogram2d"
           }
          ],
          "histogram2dcontour": [
           {
            "colorbar": {
             "outlinewidth": 0,
             "ticks": ""
            },
            "colorscale": [
             [
              0,
              "#0d0887"
             ],
             [
              0.1111111111111111,
              "#46039f"
             ],
             [
              0.2222222222222222,
              "#7201a8"
             ],
             [
              0.3333333333333333,
              "#9c179e"
             ],
             [
              0.4444444444444444,
              "#bd3786"
             ],
             [
              0.5555555555555556,
              "#d8576b"
             ],
             [
              0.6666666666666666,
              "#ed7953"
             ],
             [
              0.7777777777777778,
              "#fb9f3a"
             ],
             [
              0.8888888888888888,
              "#fdca26"
             ],
             [
              1,
              "#f0f921"
             ]
            ],
            "type": "histogram2dcontour"
           }
          ],
          "mesh3d": [
           {
            "colorbar": {
             "outlinewidth": 0,
             "ticks": ""
            },
            "type": "mesh3d"
           }
          ],
          "parcoords": [
           {
            "line": {
             "colorbar": {
              "outlinewidth": 0,
              "ticks": ""
             }
            },
            "type": "parcoords"
           }
          ],
          "pie": [
           {
            "automargin": true,
            "type": "pie"
           }
          ],
          "scatter": [
           {
            "marker": {
             "colorbar": {
              "outlinewidth": 0,
              "ticks": ""
             }
            },
            "type": "scatter"
           }
          ],
          "scatter3d": [
           {
            "line": {
             "colorbar": {
              "outlinewidth": 0,
              "ticks": ""
             }
            },
            "marker": {
             "colorbar": {
              "outlinewidth": 0,
              "ticks": ""
             }
            },
            "type": "scatter3d"
           }
          ],
          "scattercarpet": [
           {
            "marker": {
             "colorbar": {
              "outlinewidth": 0,
              "ticks": ""
             }
            },
            "type": "scattercarpet"
           }
          ],
          "scattergeo": [
           {
            "marker": {
             "colorbar": {
              "outlinewidth": 0,
              "ticks": ""
             }
            },
            "type": "scattergeo"
           }
          ],
          "scattergl": [
           {
            "marker": {
             "colorbar": {
              "outlinewidth": 0,
              "ticks": ""
             }
            },
            "type": "scattergl"
           }
          ],
          "scattermapbox": [
           {
            "marker": {
             "colorbar": {
              "outlinewidth": 0,
              "ticks": ""
             }
            },
            "type": "scattermapbox"
           }
          ],
          "scatterpolar": [
           {
            "marker": {
             "colorbar": {
              "outlinewidth": 0,
              "ticks": ""
             }
            },
            "type": "scatterpolar"
           }
          ],
          "scatterpolargl": [
           {
            "marker": {
             "colorbar": {
              "outlinewidth": 0,
              "ticks": ""
             }
            },
            "type": "scatterpolargl"
           }
          ],
          "scatterternary": [
           {
            "marker": {
             "colorbar": {
              "outlinewidth": 0,
              "ticks": ""
             }
            },
            "type": "scatterternary"
           }
          ],
          "surface": [
           {
            "colorbar": {
             "outlinewidth": 0,
             "ticks": ""
            },
            "colorscale": [
             [
              0,
              "#0d0887"
             ],
             [
              0.1111111111111111,
              "#46039f"
             ],
             [
              0.2222222222222222,
              "#7201a8"
             ],
             [
              0.3333333333333333,
              "#9c179e"
             ],
             [
              0.4444444444444444,
              "#bd3786"
             ],
             [
              0.5555555555555556,
              "#d8576b"
             ],
             [
              0.6666666666666666,
              "#ed7953"
             ],
             [
              0.7777777777777778,
              "#fb9f3a"
             ],
             [
              0.8888888888888888,
              "#fdca26"
             ],
             [
              1,
              "#f0f921"
             ]
            ],
            "type": "surface"
           }
          ],
          "table": [
           {
            "cells": {
             "fill": {
              "color": "#EBF0F8"
             },
             "line": {
              "color": "white"
             }
            },
            "header": {
             "fill": {
              "color": "#C8D4E3"
             },
             "line": {
              "color": "white"
             }
            },
            "type": "table"
           }
          ]
         },
         "layout": {
          "annotationdefaults": {
           "arrowcolor": "#2a3f5f",
           "arrowhead": 0,
           "arrowwidth": 1
          },
          "autotypenumbers": "strict",
          "coloraxis": {
           "colorbar": {
            "outlinewidth": 0,
            "ticks": ""
           }
          },
          "colorscale": {
           "diverging": [
            [
             0,
             "#8e0152"
            ],
            [
             0.1,
             "#c51b7d"
            ],
            [
             0.2,
             "#de77ae"
            ],
            [
             0.3,
             "#f1b6da"
            ],
            [
             0.4,
             "#fde0ef"
            ],
            [
             0.5,
             "#f7f7f7"
            ],
            [
             0.6,
             "#e6f5d0"
            ],
            [
             0.7,
             "#b8e186"
            ],
            [
             0.8,
             "#7fbc41"
            ],
            [
             0.9,
             "#4d9221"
            ],
            [
             1,
             "#276419"
            ]
           ],
           "sequential": [
            [
             0,
             "#0d0887"
            ],
            [
             0.1111111111111111,
             "#46039f"
            ],
            [
             0.2222222222222222,
             "#7201a8"
            ],
            [
             0.3333333333333333,
             "#9c179e"
            ],
            [
             0.4444444444444444,
             "#bd3786"
            ],
            [
             0.5555555555555556,
             "#d8576b"
            ],
            [
             0.6666666666666666,
             "#ed7953"
            ],
            [
             0.7777777777777778,
             "#fb9f3a"
            ],
            [
             0.8888888888888888,
             "#fdca26"
            ],
            [
             1,
             "#f0f921"
            ]
           ],
           "sequentialminus": [
            [
             0,
             "#0d0887"
            ],
            [
             0.1111111111111111,
             "#46039f"
            ],
            [
             0.2222222222222222,
             "#7201a8"
            ],
            [
             0.3333333333333333,
             "#9c179e"
            ],
            [
             0.4444444444444444,
             "#bd3786"
            ],
            [
             0.5555555555555556,
             "#d8576b"
            ],
            [
             0.6666666666666666,
             "#ed7953"
            ],
            [
             0.7777777777777778,
             "#fb9f3a"
            ],
            [
             0.8888888888888888,
             "#fdca26"
            ],
            [
             1,
             "#f0f921"
            ]
           ]
          },
          "colorway": [
           "#636efa",
           "#EF553B",
           "#00cc96",
           "#ab63fa",
           "#FFA15A",
           "#19d3f3",
           "#FF6692",
           "#B6E880",
           "#FF97FF",
           "#FECB52"
          ],
          "font": {
           "color": "#2a3f5f"
          },
          "geo": {
           "bgcolor": "white",
           "lakecolor": "white",
           "landcolor": "#E5ECF6",
           "showlakes": true,
           "showland": true,
           "subunitcolor": "white"
          },
          "hoverlabel": {
           "align": "left"
          },
          "hovermode": "closest",
          "mapbox": {
           "style": "light"
          },
          "paper_bgcolor": "white",
          "plot_bgcolor": "#E5ECF6",
          "polar": {
           "angularaxis": {
            "gridcolor": "white",
            "linecolor": "white",
            "ticks": ""
           },
           "bgcolor": "#E5ECF6",
           "radialaxis": {
            "gridcolor": "white",
            "linecolor": "white",
            "ticks": ""
           }
          },
          "scene": {
           "xaxis": {
            "backgroundcolor": "#E5ECF6",
            "gridcolor": "white",
            "gridwidth": 2,
            "linecolor": "white",
            "showbackground": true,
            "ticks": "",
            "zerolinecolor": "white"
           },
           "yaxis": {
            "backgroundcolor": "#E5ECF6",
            "gridcolor": "white",
            "gridwidth": 2,
            "linecolor": "white",
            "showbackground": true,
            "ticks": "",
            "zerolinecolor": "white"
           },
           "zaxis": {
            "backgroundcolor": "#E5ECF6",
            "gridcolor": "white",
            "gridwidth": 2,
            "linecolor": "white",
            "showbackground": true,
            "ticks": "",
            "zerolinecolor": "white"
           }
          },
          "shapedefaults": {
           "line": {
            "color": "#2a3f5f"
           }
          },
          "ternary": {
           "aaxis": {
            "gridcolor": "white",
            "linecolor": "white",
            "ticks": ""
           },
           "baxis": {
            "gridcolor": "white",
            "linecolor": "white",
            "ticks": ""
           },
           "bgcolor": "#E5ECF6",
           "caxis": {
            "gridcolor": "white",
            "linecolor": "white",
            "ticks": ""
           }
          },
          "title": {
           "x": 0.05
          },
          "xaxis": {
           "automargin": true,
           "gridcolor": "white",
           "linecolor": "white",
           "ticks": "",
           "title": {
            "standoff": 15
           },
           "zerolinecolor": "white",
           "zerolinewidth": 2
          },
          "yaxis": {
           "automargin": true,
           "gridcolor": "white",
           "linecolor": "white",
           "ticks": "",
           "title": {
            "standoff": 15
           },
           "zerolinecolor": "white",
           "zerolinewidth": 2
          }
         }
        },
        "title": {
         "text": "Incidence"
        },
        "xaxis": {
         "anchor": "y",
         "autorange": true,
         "domain": [
          0,
          1
         ],
         "range": [
          9,
          97
         ],
         "title": {
          "text": "t"
         },
         "type": "linear"
        },
        "yaxis": {
         "anchor": "x",
         "autorange": true,
         "domain": [
          0,
          1
         ],
         "range": [
          -50,
          950
         ],
         "title": {
          "text": "entries"
         },
         "type": "linear"
        }
       }
      },
      "image/png": "[encoded data removed]",
      "text/html": [
       "<div>                            <div id=\"21bffc5e-8c9f-413f-bd84-50b05ece1853\" class=\"plotly-graph-div\" style=\"height:525px; width:100%;\"></div>            <script type=\"text/javascript\">                require([\"plotly\"], function(Plotly) {                    window.PLOTLYENV=window.PLOTLYENV || {};                                    if (document.getElementById(\"21bffc5e-8c9f-413f-bd84-50b05ece1853\")) {                    Plotly.newPlot(                        \"21bffc5e-8c9f-413f-bd84-50b05ece1853\",                        [{\"hovertemplate\":\"age_group=0 - 9<br>geoRegion=BE<br>t=%{x}<br>entries=%{y}<extra></extra>\",\"legendgroup\":\"0 - 9\",\"line\":{\"color\":\"#636efa\",\"dash\":\"solid\"},\"marker\":{\"symbol\":\"circle\"},\"mode\":\"lines\",\"name\":\"0 - 9\",\"orientation\":\"v\",\"showlegend\":true,\"type\":\"scatter\",\"x\":[9,10,11,12,13,14,15,16,17,18,19,20,21,22,23,24,25,26,27,28,29,30,31,32,33,34,35,36,37,38,39,40,41,42,43,44,45,46,47,48,49,50,51,52,53,54,55,56,57,58,59,60,61,62,63,64,65,66,67,68,69,70,71,72,73,74,75,76,77,78,79,80,81,82,83,84,85,86,87,88,89,90,91,92,93,94,95,96,97],\"xaxis\":\"x\",\"y\":[0,1,0,4,1,0,1,1,0,1,0,0,2,0,0,3,0,0,0,0,2,1,3,3,4,4,3,2,0,2,0,0,3,12,29,36,50,39,30,26,17,42,40,29,19,17,19,40,32,37,30,14,26,27,32,41,51,60,52,34,36,43,40,55,61,29,18,6,6,2,1,2,6,8,6,17,69,139,273,272,244,114,76,72,32,34,58,105,277],\"yaxis\":\"y\"},{\"hovertemplate\":\"age_group=10 - 19<br>geoRegion=BE<br>t=%{x}<br>entries=%{y}<extra></extra>\",\"legendgroup\":\"10 - 19\",\"line\":{\"color\":\"#EF553B\",\"dash\":\"solid\"},\"marker\":{\"symbol\":\"circle\"},\"mode\":\"lines\",\"name\":\"10 - 19\",\"orientation\":\"v\",\"showlegend\":true,\"type\":\"scatter\",\"x\":[9,10,11,12,13,14,15,16,17,18,19,20,21,22,23,24,25,26,27,28,29,30,31,32,33,34,35,36,37,38,39,40,41,42,43,44,45,46,47,48,49,50,51,52,53,54,55,56,57,58,59,60,61,62,63,64,65,66,67,68,69,70,71,72,73,74,75,76,77,78,79,80,81,82,83,84,85,86,87,88,89,90,91,92,93,94,95,96,97],\"xaxis\":\"x\",\"y\":[1,2,1,15,11,11,11,5,11,1,2,1,1,0,3,3,1,2,1,3,4,0,5,13,8,14,22,19,25,34,11,26,61,147,365,536,443,334,225,245,282,305,261,178,195,202,150,147,111,112,110,67,88,82,105,114,160,171,159,146,136,181,151,139,192,86,50,43,7,16,16,24,36,60,88,151,305,374,478,463,429,370,196,117,78,68,123,299,558],\"yaxis\":\"y\"},{\"hovertemplate\":\"age_group=20 - 29<br>geoRegion=BE<br>t=%{x}<br>entries=%{y}<extra></extra>\",\"legendgroup\":\"20 - 29\",\"line\":{\"color\":\"#00cc96\",\"dash\":\"solid\"},\"marker\":{\"symbol\":\"circle\"},\"mode\":\"lines\",\"name\":\"20 - 29\",\"orientation\":\"v\",\"showlegend\":true,\"type\":\"scatter\",\"x\":[9,10,11,12,13,14,15,16,17,18,19,20,21,22,23,24,25,26,27,28,29,30,31,32,33,34,35,36,37,38,39,40,41,42,43,44,45,46,47,48,49,50,51,52,53,54,55,56,57,58,59,60,61,62,63,64,65,66,67,68,69,70,71,72,73,74,75,76,77,78,79,80,81,82,83,84,85,86,87,88,89,90,91,92,93,94,95,96,97],\"xaxis\":\"x\",\"y\":[1,3,15,54,49,39,47,22,26,14,6,1,2,3,1,2,4,3,14,9,16,12,12,15,39,31,38,45,52,64,44,74,195,346,687,900,776,625,494,454,459,512,513,409,431,438,258,213,164,130,128,111,117,93,97,141,231,186,246,236,247,188,179,129,159,113,43,39,17,12,16,57,121,107,151,314,473,379,342,317,272,216,165,157,117,102,150,167,242],\"yaxis\":\"y\"},{\"hovertemplate\":\"age_group=30 - 39<br>geoRegion=BE<br>t=%{x}<br>entries=%{y}<extra></extra>\",\"legendgroup\":\"30 - 39\",\"line\":{\"color\":\"#ab63fa\",\"dash\":\"solid\"},\"marker\":{\"symbol\":\"circle\"},\"mode\":\"lines\",\"name\":\"30 - 39\",\"orientation\":\"v\",\"showlegend\":true,\"type\":\"scatter\",\"x\":[9,10,11,12,13,14,15,16,17,18,19,20,21,22,23,24,25,26,27,28,29,30,31,32,33,34,35,36,37,38,39,40,41,42,43,44,45,46,47,48,49,50,51,52,53,54,55,56,57,58,59,60,61,62,63,64,65,66,67,68,69,70,71,72,73,74,75,76,77,78,79,80,81,82,83,84,85,86,87,88,89,90,91,92,93,94,95,96,97],\"xaxis\":\"x\",\"y\":[0,6,20,57,39,48,27,23,15,16,5,3,3,3,0,4,0,3,3,7,4,12,12,10,21,17,23,30,29,57,38,57,139,301,638,813,700,549,466,427,490,525,563,418,383,380,250,190,172,138,109,97,119,83,107,123,157,178,214,207,220,193,173,143,121,86,48,46,24,18,12,20,43,51,49,131,280,356,316,328,313,233,195,150,118,121,139,179,310],\"yaxis\":\"y\"},{\"hovertemplate\":\"age_group=40 - 49<br>geoRegion=BE<br>t=%{x}<br>entries=%{y}<extra></extra>\",\"legendgroup\":\"40 - 49\",\"line\":{\"color\":\"#FFA15A\",\"dash\":\"solid\"},\"marker\":{\"symbol\":\"circle\"},\"mode\":\"lines\",\"name\":\"40 - 49\",\"orientation\":\"v\",\"showlegend\":true,\"type\":\"scatter\",\"x\":[9,10,11,12,13,14,15,16,17,18,19,20,21,22,23,24,25,26,27,28,29,30,31,32,33,34,35,36,37,38,39,40,41,42,43,44,45,46,47,48,49,50,51,52,53,54,55,56,57,58,59,60,61,62,63,64,65,66,67,68,69,70,71,72,73,74,75,76,77,78,79,80,81,82,83,84,85,86,87,88,89,90,91,92,93,94,95,96,97],\"xaxis\":\"x\",\"y\":[0,4,18,69,54,48,33,18,14,11,2,3,2,0,0,1,0,1,3,5,4,4,6,6,13,9,17,17,30,58,40,49,101,304,580,789,713,513,461,402,435,527,461,440,382,346,230,162,170,125,93,93,74,102,92,111,170,162,213,209,196,164,202,129,108,86,47,38,10,8,13,16,23,38,44,102,235,249,236,289,247,171,141,115,85,80,112,203,331],\"yaxis\":\"y\"},{\"hovertemplate\":\"age_group=50 - 59<br>geoRegion=BE<br>t=%{x}<br>entries=%{y}<extra></extra>\",\"legendgroup\":\"50 - 59\",\"line\":{\"color\":\"#19d3f3\",\"dash\":\"solid\"},\"marker\":{\"symbol\":\"circle\"},\"mode\":\"lines\",\"name\":\"50 - 59\",\"orientation\":\"v\",\"showlegend\":true,\"type\":\"scatter\",\"x\":[9,10,11,12,13,14,15,16,17,18,19,20,21,22,23,24,25,26,27,28,29,30,31,32,33,34,35,36,37,38,39,40,41,42,43,44,45,46,47,48,49,50,51,52,53,54,55,56,57,58,59,60,61,62,63,64,65,66,67,68,69,70,71,72,73,74,75,76,77,78,79,80,81,82,83,84,85,86,87,88,89,90,91,92,93,94,95,96,97],\"xaxis\":\"x\",\"y\":[0,6,28,86,71,74,49,26,20,11,6,4,2,3,2,2,3,1,3,7,11,1,14,7,10,13,12,25,31,61,59,66,116,283,590,816,708,558,488,474,489,562,576,472,422,374,257,194,181,134,107,69,104,95,93,103,141,153,212,202,212,158,171,152,107,86,42,26,16,10,2,16,22,33,52,85,154,159,173,185,169,154,119,88,59,74,111,161,244],\"yaxis\":\"y\"},{\"hovertemplate\":\"age_group=60 - 69<br>geoRegion=BE<br>t=%{x}<br>entries=%{y}<extra></extra>\",\"legendgroup\":\"60 - 69\",\"line\":{\"color\":\"#FF6692\",\"dash\":\"solid\"},\"marker\":{\"symbol\":\"circle\"},\"mode\":\"lines\",\"name\":\"60 - 69\",\"orientation\":\"v\",\"showlegend\":true,\"type\":\"scatter\",\"x\":[9,10,11,12,13,14,15,16,17,18,19,20,21,22,23,24,25,26,27,28,29,30,31,32,33,34,35,36,37,38,39,40,41,42,43,44,45,46,47,48,49,50,51,52,53,54,55,56,57,58,59,60,61,62,63,64,65,66,67,68,69,70,71,72,73,74,75,76,77,78,79,80,81,82,83,84,85,86,87,88,89,90,91,92,93,94,95,96,97],\"xaxis\":\"x\",\"y\":[0,5,11,49,60,44,21,11,12,5,2,3,3,0,1,0,1,2,5,6,5,2,5,6,9,6,7,8,13,25,19,40,54,183,364,492,481,280,278,268,280,386,420,293,286,205,118,110,107,85,56,55,59,70,63,71,80,82,115,112,114,88,69,58,50,28,21,17,4,4,5,3,10,11,20,27,68,89,90,78,79,59,49,53,45,53,67,96,129],\"yaxis\":\"y\"},{\"hovertemplate\":\"age_group=70 - 79<br>geoRegion=BE<br>t=%{x}<br>entries=%{y}<extra></extra>\",\"legendgroup\":\"70 - 79\",\"line\":{\"color\":\"#B6E880\",\"dash\":\"solid\"},\"marker\":{\"symbol\":\"circle\"},\"mode\":\"lines\",\"name\":\"70 - 79\",\"orientation\":\"v\",\"showlegend\":true,\"type\":\"scatter\",\"x\":[9,10,11,12,13,14,15,16,17,18,19,20,21,22,23,24,25,26,27,28,29,30,31,32,33,34,35,36,37,38,39,40,41,42,43,44,45,46,47,48,49,50,51,52,53,54,55,56,57,58,59,60,61,62,63,64,65,66,67,68,69,70,71,72,73,74,75,76,77,78,79,80,81,82,83,84,85,86,87,88,89,90,91,92,93,94,95,96,97],\"xaxis\":\"x\",\"y\":[0,3,2,26,45,29,20,9,6,0,4,1,2,0,0,0,1,0,0,2,5,2,4,4,5,3,1,8,6,8,18,24,45,135,262,330,274,198,204,203,220,280,271,201,168,159,113,72,54,40,51,22,36,31,35,35,35,24,44,34,55,37,39,18,21,12,10,6,2,0,1,1,4,3,8,13,25,30,45,43,39,43,42,23,22,14,43,52,98],\"yaxis\":\"y\"},{\"hovertemplate\":\"age_group=80+<br>geoRegion=BE<br>t=%{x}<br>entries=%{y}<extra></extra>\",\"legendgroup\":\"80+\",\"line\":{\"color\":\"#FF97FF\",\"dash\":\"solid\"},\"marker\":{\"symbol\":\"circle\"},\"mode\":\"lines\",\"name\":\"80+\",\"orientation\":\"v\",\"showlegend\":true,\"type\":\"scatter\",\"x\":[9,10,11,12,13,14,15,16,17,18,19,20,21,22,23,24,25,26,27,28,29,30,31,32,33,34,35,36,37,38,39,40,41,42,43,44,45,46,47,48,49,50,51,52,53,54,55,56,57,58,59,60,61,62,63,64,65,66,67,68,69,70,71,72,73,74,75,76,77,78,79,80,81,82,83,84,85,86,87,88,89,90,91,92,93,94,95,96,97],\"xaxis\":\"x\",\"y\":[0,2,7,14,29,69,42,26,2,8,11,3,1,0,0,0,0,1,0,0,3,0,2,0,0,0,0,0,6,6,8,10,26,84,213,284,324,323,262,331,307,336,370,276,232,182,139,136,99,81,60,26,29,20,18,21,30,32,17,21,24,29,20,7,15,12,7,3,0,0,0,1,7,6,6,9,20,32,38,39,27,30,34,21,25,14,36,28,86],\"yaxis\":\"y\"}],                        {\"annotations\":[{\"font\":{},\"showarrow\":false,\"text\":\"geoRegion=BE\",\"x\":0.5,\"xanchor\":\"center\",\"xref\":\"paper\",\"y\":1.0,\"yanchor\":\"bottom\",\"yref\":\"paper\"}],\"legend\":{\"title\":{\"text\":\"age_group\"},\"tracegroupgap\":0},\"template\":{\"data\":{\"bar\":[{\"error_x\":{\"color\":\"#2a3f5f\"},\"error_y\":{\"color\":\"#2a3f5f\"},\"marker\":{\"line\":{\"color\":\"#E5ECF6\",\"width\":0.5},\"pattern\":{\"fillmode\":\"overlay\",\"size\":10,\"solidity\":0.2}},\"type\":\"bar\"}],\"barpolar\":[{\"marker\":{\"line\":{\"color\":\"#E5ECF6\",\"width\":0.5},\"pattern\":{\"fillmode\":\"overlay\",\"size\":10,\"solidity\":0.2}},\"type\":\"barpolar\"}],\"carpet\":[{\"aaxis\":{\"endlinecolor\":\"#2a3f5f\",\"gridcolor\":\"white\",\"linecolor\":\"white\",\"minorgridcolor\":\"white\",\"startlinecolor\":\"#2a3f5f\"},\"baxis\":{\"endlinecolor\":\"#2a3f5f\",\"gridcolor\":\"white\",\"linecolor\":\"white\",\"minorgridcolor\":\"white\",\"startlinecolor\":\"#2a3f5f\"},\"type\":\"carpet\"}],\"choropleth\":[{\"colorbar\":{\"outlinewidth\":0,\"ticks\":\"\"},\"type\":\"choropleth\"}],\"contour\":[{\"colorbar\":{\"outlinewidth\":0,\"ticks\":\"\"},\"colorscale\":[[0.0,\"#0d0887\"],[0.1111111111111111,\"#46039f\"],[0.2222222222222222,\"#7201a8\"],[0.3333333333333333,\"#9c179e\"],[0.4444444444444444,\"#bd3786\"],[0.5555555555555556,\"#d8576b\"],[0.6666666666666666,\"#ed7953\"],[0.7777777777777778,\"#fb9f3a\"],[0.8888888888888888,\"#fdca26\"],[1.0,\"#f0f921\"]],\"type\":\"contour\"}],\"contourcarpet\":[{\"colorbar\":{\"outlinewidth\":0,\"ticks\":\"\"},\"type\":\"contourcarpet\"}],\"heatmap\":[{\"colorbar\":{\"outlinewidth\":0,\"ticks\":\"\"},\"colorscale\":[[0.0,\"#0d0887\"],[0.1111111111111111,\"#46039f\"],[0.2222222222222222,\"#7201a8\"],[0.3333333333333333,\"#9c179e\"],[0.4444444444444444,\"#bd3786\"],[0.5555555555555556,\"#d8576b\"],[0.6666666666666666,\"#ed7953\"],[0.7777777777777778,\"#fb9f3a\"],[0.8888888888888888,\"#fdca26\"],[1.0,\"#f0f921\"]],\"type\":\"heatmap\"}],\"heatmapgl\":[{\"colorbar\":{\"outlinewidth\":0,\"ticks\":\"\"},\"colorscale\":[[0.0,\"#0d0887\"],[0.1111111111111111,\"#46039f\"],[0.2222222222222222,\"#7201a8\"],[0.3333333333333333,\"#9c179e\"],[0.4444444444444444,\"#bd3786\"],[0.5555555555555556,\"#d8576b\"],[0.6666666666666666,\"#ed7953\"],[0.7777777777777778,\"#fb9f3a\"],[0.8888888888888888,\"#fdca26\"],[1.0,\"#f0f921\"]],\"type\":\"heatmapgl\"}],\"histogram\":[{\"marker\":{\"pattern\":{\"fillmode\":\"overlay\",\"size\":10,\"solidity\":0.2}},\"type\":\"histogram\"}],\"histogram2d\":[{\"colorbar\":{\"outlinewidth\":0,\"ticks\":\"\"},\"colorscale\":[[0.0,\"#0d0887\"],[0.1111111111111111,\"#46039f\"],[0.2222222222222222,\"#7201a8\"],[0.3333333333333333,\"#9c179e\"],[0.4444444444444444,\"#bd3786\"],[0.5555555555555556,\"#d8576b\"],[0.6666666666666666,\"#ed7953\"],[0.7777777777777778,\"#fb9f3a\"],[0.8888888888888888,\"#fdca26\"],[1.0,\"#f0f921\"]],\"type\":\"histogram2d\"}],\"histogram2dcontour\":[{\"colorbar\":{\"outlinewidth\":0,\"ticks\":\"\"},\"colorscale\":[[0.0,\"#0d0887\"],[0.1111111111111111,\"#46039f\"],[0.2222222222222222,\"#7201a8\"],[0.3333333333333333,\"#9c179e\"],[0.4444444444444444,\"#bd3786\"],[0.5555555555555556,\"#d8576b\"],[0.6666666666666666,\"#ed7953\"],[0.7777777777777778,\"#fb9f3a\"],[0.8888888888888888,\"#fdca26\"],[1.0,\"#f0f921\"]],\"type\":\"histogram2dcontour\"}],\"mesh3d\":[{\"colorbar\":{\"outlinewidth\":0,\"ticks\":\"\"},\"type\":\"mesh3d\"}],\"parcoords\":[{\"line\":{\"colorbar\":{\"outlinewidth\":0,\"ticks\":\"\"}},\"type\":\"parcoords\"}],\"pie\":[{\"automargin\":true,\"type\":\"pie\"}],\"scatter\":[{\"marker\":{\"colorbar\":{\"outlinewidth\":0,\"ticks\":\"\"}},\"type\":\"scatter\"}],\"scatter3d\":[{\"line\":{\"colorbar\":{\"outlinewidth\":0,\"ticks\":\"\"}},\"marker\":{\"colorbar\":{\"outlinewidth\":0,\"ticks\":\"\"}},\"type\":\"scatter3d\"}],\"scattercarpet\":[{\"marker\":{\"colorbar\":{\"outlinewidth\":0,\"ticks\":\"\"}},\"type\":\"scattercarpet\"}],\"scattergeo\":[{\"marker\":{\"colorbar\":{\"outlinewidth\":0,\"ticks\":\"\"}},\"type\":\"scattergeo\"}],\"scattergl\":[{\"marker\":{\"colorbar\":{\"outlinewidth\":0,\"ticks\":\"\"}},\"type\":\"scattergl\"}],\"scattermapbox\":[{\"marker\":{\"colorbar\":{\"outlinewidth\":0,\"ticks\":\"\"}},\"type\":\"scattermapbox\"}],\"scatterpolar\":[{\"marker\":{\"colorbar\":{\"outlinewidth\":0,\"ticks\":\"\"}},\"type\":\"scatterpolar\"}],\"scatterpolargl\":[{\"marker\":{\"colorbar\":{\"outlinewidth\":0,\"ticks\":\"\"}},\"type\":\"scatterpolargl\"}],\"scatterternary\":[{\"marker\":{\"colorbar\":{\"outlinewidth\":0,\"ticks\":\"\"}},\"type\":\"scatterternary\"}],\"surface\":[{\"colorbar\":{\"outlinewidth\":0,\"ticks\":\"\"},\"colorscale\":[[0.0,\"#0d0887\"],[0.1111111111111111,\"#46039f\"],[0.2222222222222222,\"#7201a8\"],[0.3333333333333333,\"#9c179e\"],[0.4444444444444444,\"#bd3786\"],[0.5555555555555556,\"#d8576b\"],[0.6666666666666666,\"#ed7953\"],[0.7777777777777778,\"#fb9f3a\"],[0.8888888888888888,\"#fdca26\"],[1.0,\"#f0f921\"]],\"type\":\"surface\"}],\"table\":[{\"cells\":{\"fill\":{\"color\":\"#EBF0F8\"},\"line\":{\"color\":\"white\"}},\"header\":{\"fill\":{\"color\":\"#C8D4E3\"},\"line\":{\"color\":\"white\"}},\"type\":\"table\"}]},\"layout\":{\"annotationdefaults\":{\"arrowcolor\":\"#2a3f5f\",\"arrowhead\":0,\"arrowwidth\":1},\"autotypenumbers\":\"strict\",\"coloraxis\":{\"colorbar\":{\"outlinewidth\":0,\"ticks\":\"\"}},\"colorscale\":{\"diverging\":[[0,\"#8e0152\"],[0.1,\"#c51b7d\"],[0.2,\"#de77ae\"],[0.3,\"#f1b6da\"],[0.4,\"#fde0ef\"],[0.5,\"#f7f7f7\"],[0.6,\"#e6f5d0\"],[0.7,\"#b8e186\"],[0.8,\"#7fbc41\"],[0.9,\"#4d9221\"],[1,\"#276419\"]],\"sequential\":[[0.0,\"#0d0887\"],[0.1111111111111111,\"#46039f\"],[0.2222222222222222,\"#7201a8\"],[0.3333333333333333,\"#9c179e\"],[0.4444444444444444,\"#bd3786\"],[0.5555555555555556,\"#d8576b\"],[0.6666666666666666,\"#ed7953\"],[0.7777777777777778,\"#fb9f3a\"],[0.8888888888888888,\"#fdca26\"],[1.0,\"#f0f921\"]],\"sequentialminus\":[[0.0,\"#0d0887\"],[0.1111111111111111,\"#46039f\"],[0.2222222222222222,\"#7201a8\"],[0.3333333333333333,\"#9c179e\"],[0.4444444444444444,\"#bd3786\"],[0.5555555555555556,\"#d8576b\"],[0.6666666666666666,\"#ed7953\"],[0.7777777777777778,\"#fb9f3a\"],[0.8888888888888888,\"#fdca26\"],[1.0,\"#f0f921\"]]},\"colorway\":[\"#636efa\",\"#EF553B\",\"#00cc96\",\"#ab63fa\",\"#FFA15A\",\"#19d3f3\",\"#FF6692\",\"#B6E880\",\"#FF97FF\",\"#FECB52\"],\"font\":{\"color\":\"#2a3f5f\"},\"geo\":{\"bgcolor\":\"white\",\"lakecolor\":\"white\",\"landcolor\":\"#E5ECF6\",\"showlakes\":true,\"showland\":true,\"subunitcolor\":\"white\"},\"hoverlabel\":{\"align\":\"left\"},\"hovermode\":\"closest\",\"mapbox\":{\"style\":\"light\"},\"paper_bgcolor\":\"white\",\"plot_bgcolor\":\"#E5ECF6\",\"polar\":{\"angularaxis\":{\"gridcolor\":\"white\",\"linecolor\":\"white\",\"ticks\":\"\"},\"bgcolor\":\"#E5ECF6\",\"radialaxis\":{\"gridcolor\":\"white\",\"linecolor\":\"white\",\"ticks\":\"\"}},\"scene\":{\"xaxis\":{\"backgroundcolor\":\"#E5ECF6\",\"gridcolor\":\"white\",\"gridwidth\":2,\"linecolor\":\"white\",\"showbackground\":true,\"ticks\":\"\",\"zerolinecolor\":\"white\"},\"yaxis\":{\"backgroundcolor\":\"#E5ECF6\",\"gridcolor\":\"white\",\"gridwidth\":2,\"linecolor\":\"white\",\"showbackground\":true,\"ticks\":\"\",\"zerolinecolor\":\"white\"},\"zaxis\":{\"backgroundcolor\":\"#E5ECF6\",\"gridcolor\":\"white\",\"gridwidth\":2,\"linecolor\":\"white\",\"showbackground\":true,\"ticks\":\"\",\"zerolinecolor\":\"white\"}},\"shapedefaults\":{\"line\":{\"color\":\"#2a3f5f\"}},\"ternary\":{\"aaxis\":{\"gridcolor\":\"white\",\"linecolor\":\"white\",\"ticks\":\"\"},\"baxis\":{\"gridcolor\":\"white\",\"linecolor\":\"white\",\"ticks\":\"\"},\"bgcolor\":\"#E5ECF6\",\"caxis\":{\"gridcolor\":\"white\",\"linecolor\":\"white\",\"ticks\":\"\"}},\"title\":{\"x\":0.05},\"xaxis\":{\"automargin\":true,\"gridcolor\":\"white\",\"linecolor\":\"white\",\"ticks\":\"\",\"title\":{\"standoff\":15},\"zerolinecolor\":\"white\",\"zerolinewidth\":2},\"yaxis\":{\"automargin\":true,\"gridcolor\":\"white\",\"linecolor\":\"white\",\"ticks\":\"\",\"title\":{\"standoff\":15},\"zerolinecolor\":\"white\",\"zerolinewidth\":2}}},\"title\":{\"text\":\"Incidence\"},\"xaxis\":{\"anchor\":\"y\",\"domain\":[0.0,1.0],\"title\":{\"text\":\"t\"}},\"yaxis\":{\"anchor\":\"x\",\"domain\":[0.0,1.0],\"title\":{\"text\":\"entries\"}}},                        {\"responsive\": true}                    ).then(function(){\n",
       "                            \n",
       "var gd = document.getElementById('21bffc5e-8c9f-413f-bd84-50b05ece1853');\n",
       "var x = new MutationObserver(function (mutations, observer) {{\n",
       "        var display = window.getComputedStyle(gd).display;\n",
       "        if (!display || display === 'none') {{\n",
       "            console.log([gd, 'removed!']);\n",
       "            Plotly.purge(gd);\n",
       "            observer.disconnect();\n",
       "        }}\n",
       "}});\n",
       "\n",
       "// Listen for the removal of the full notebook cells\n",
       "var notebookContainer = gd.closest('#notebook-container');\n",
       "if (notebookContainer) {{\n",
       "    x.observe(notebookContainer, {childList: true});\n",
       "}}\n",
       "\n",
       "// Listen for the clearing of the current output cell\n",
       "var outputEl = gd.closest('.output');\n",
       "if (outputEl) {{\n",
       "    x.observe(outputEl, {childList: true});\n",
       "}}\n",
       "\n",
       "                        })                };                });            </script>        </div>"
      ]
     },
     "metadata": {},
     "output_type": "display_data"
    }
   ],
   "source": [
    "fig = px.line(inc.loc[:,:, 'BE'].reset_index(), x='t', y='entries', facet_col='geoRegion', facet_col_wrap=3, color='age_group', title='Incidence')\n",
    "fig.show()"
   ]
  },
  {
   "cell_type": "markdown",
   "id": "4345977f-a8d1-4bc8-a32a-d2d2ab92a576",
   "metadata": {
    "tags": []
   },
   "source": [
    "## Model"
   ]
  },
  {
   "cell_type": "markdown",
   "id": "0324d887-35d9-461e-a72f-730e68348ce6",
   "metadata": {},
   "source": [
    "#### Total occupation at time $T$ is the sum of the occupations by cohorts (by age-group $i$)\n",
    "\\begin{equation}\n",
    "    \\Large V(T) = \\sum_{i=1}^{N_i} V_{i}(T)\n",
    "\\end{equation}\n",
    "\n",
    "#### The occupations by cohort $V_{i}$ are the cumulative sum of incremental changes\n",
    "\\begin{equation}\n",
    "    \\Large V_{i}(T) = \\sum_{t=0}^T \\Delta V_{i}(t)\n",
    "\\end{equation}\n",
    "\n",
    "#### The incremental changes $\\Delta V_{i}$ are the balance between entries $E_{i}$ and exits $A_{i}$\n",
    "\\begin{equation}\n",
    "    \\Large \\Delta V_{i}(t) = E_{i}(t) - A_{i}(t)\n",
    "\\end{equation}\n",
    "\n",
    "#### The entries $E_{i}$ at time $t$ are modelled as a fraction $\\alpha_{i}$ of the incidence number $I_{i}$ at time $t - \\tau_E$\n",
    "\\begin{equation}\n",
    "    \\Large E_{i}(t) = \\alpha_{i} I_{i}(t-\\tau_E)\n",
    "\\end{equation}\n",
    "\n",
    "#### The exits $A_{i}$ at time $t$ are modelled as the entries at time $t - \\tau_A$\n",
    "\\begin{equation}\n",
    "    \\Large A_{i}(t) = E_{i}(t - \\tau_A)\n",
    "\\end{equation}\n",
    "\n",
    "#### Putting things together, the model reads as\n",
    "\\begin{equation}\n",
    "    \\Large V(T) = \\sum_{i=1}^{N_i} \\sum_{t=0}^T \\alpha_{i} \\left(I_{i}(t - \\tau_E) - I_{i}(t - \\tau_A)\\right)\n",
    "\\end{equation}\n",
    "\n",
    "#### The parameters of the model are the _conversion factors_ $\\alpha_{i}$ and the time offsets $\\tau_E$ and $\\tau_A$."
   ]
  },
  {
   "cell_type": "code",
   "execution_count": 202,
   "id": "1eb34ade-7743-43cf-a476-7657ec84cc81",
   "metadata": {},
   "outputs": [],
   "source": [
    "def apply_model(inc, alpha, tau_e, tau_a):\n",
    "    '''Model for the estimation of ventilator occupation given incidence time series\n",
    "    \n",
    "    Parameters\n",
    "    ----------\n",
    "    inc: pd.DataFrame\n",
    "      DataFrame with incidence numbers with a multi-level index. Levels must be:\n",
    "          * level=0: int, week numbers, named 't'\n",
    "          * level=1: str, age-group, named 'age_group'\n",
    "    alpha: dict\n",
    "      Model parameters representing the _conversion factors_ from the incidence\n",
    "      numbers to the number of patients requiring ventilation. The keys must\n",
    "      correspond to the age-group labels of `inc` and the values must be floats\n",
    "      in [0, 1].\n",
    "    tau_e: int\n",
    "      Model parameter describing the number of weeks that passes between\n",
    "      infection and a patient being attached to a ventilator.\n",
    "    tau_a: int\n",
    "      Model parameter describing the number of weeks that passes between\n",
    "      infection and a patient either no longer requires the ventilator\n",
    "      or is deceased.\n",
    "    \n",
    "    Returns\n",
    "    -------\n",
    "    pd.DataFrame\n",
    "      A time-series predicting the ventilator occupancy.\n",
    "    '''\n",
    "    \n",
    "    # build grouping by age and vaccination status\n",
    "    inc_grp = inc.groupby(level=['age_group'])\n",
    "    # shift the groups and calculate the difference\n",
    "    delta = inc_grp.shift(tau_e) - inc_grp.shift(tau_a)\n",
    "    # for each group, multiply the difference with the conversion factor\n",
    "    for i in inc.index.unique('age_group'):\n",
    "        delta.loc[(slice(None), i), :] *= alpha[i]\n",
    "    # for each group calculate the cumulative sum\n",
    "    vi = delta.groupby(level=['age_group']).cumsum()\n",
    "    # calculate total occupation by summing over the groups\n",
    "    v = vi.groupby(level='t').sum()\n",
    "    return v\n",
    "    "
   ]
  },
  {
   "cell_type": "code",
   "execution_count": 259,
   "id": "8847b9ee-3357-44d7-8129-cd554f0b80b3",
   "metadata": {},
   "outputs": [],
   "source": [
    "def do_plot(alpha, tau_E, tau_A, canton):\n",
    "    a = {g: alpha/100.0 for g in inc.index.get_level_values(1)}\n",
    "    pred = apply_model(inc.loc[:, :, canton].droplevel(2), a, tau_E, tau_A)\n",
    "    pred.rename(columns={'entries': 'current_vent'}, inplace=True)\n",
    "    f = px.line(pred.reset_index(), x='t', y='current_vent', title='Predicted ventilator occupation')\n",
    "    f.show()\n",
    "    tmp = data.loc[canton].reset_index()\n",
    "    ff = px.line(tmp, x='date_time', y='current_vent', title='Real ventilator occupation')\n",
    "    ff.show()"
   ]
  },
  {
   "cell_type": "markdown",
   "id": "471a5ef8-748e-4144-a47d-5f9d5a0ecfef",
   "metadata": {
    "tags": []
   },
   "source": [
    "## Apply the Model"
   ]
  },
  {
   "cell_type": "code",
   "execution_count": 260,
   "id": "f56bae88-5344-42cd-8dfb-b132ddde058b",
   "metadata": {},
   "outputs": [
    {
     "data": {
      "application/vnd.jupyter.widget-view+json": {
       "model_id": "ea7852713338421e94b856b61c3d7174",
       "version_major": 2,
       "version_minor": 0
      },
      "text/plain": [
       "interactive(children=(FloatSlider(value=0.35, description='alpha', max=1.0499999999999998, min=-0.35), IntSlid…"
      ]
     },
     "metadata": {},
     "output_type": "display_data"
    },
    {
     "data": {
      "text/plain": [
       "<function __main__.do_plot(alpha, tau_E, tau_A, canton)>"
      ]
     },
     "execution_count": 260,
     "metadata": {},
     "output_type": "execute_result"
    }
   ],
   "source": [
    "interact(do_plot, alpha=0.35, tau_E=8, tau_A=15, canton=['BE', 'ZH', 'AG'])"
   ]
  },
  {
   "cell_type": "code",
   "execution_count": null,
   "id": "e2ee749a-b3cb-44ca-be69-ebe9f07006d2",
   "metadata": {},
   "outputs": [],
   "source": []
  }
 ],
 "metadata": {
  "kernelspec": {
   "display_name": "Python 3 (ipykernel)",
   "language": "python",
   "name": "python3"
  },
  "language_info": {
   "codemirror_mode": {
    "name": "ipython",
    "version": 3
   },
   "file_extension": ".py",
   "mimetype": "text/x-python",
   "name": "python",
   "nbconvert_exporter": "python",
   "pygments_lexer": "ipython3",
   "version": "3.9.7"
  },
  "toc-showcode": false
 },
 "nbformat": 4,
 "nbformat_minor": 5
}
