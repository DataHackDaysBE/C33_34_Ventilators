{
 "cells": [
  {
   "cell_type": "markdown",
   "id": "84fc859f-59b0-4efa-9a9f-6ca6e5c52093",
   "metadata": {},
   "source": [
    "# C33/C34 Beatmungsgeräte\n",
    "> Manuel Vazquez  \n",
    "> Christian Spiller  \n",
    "> Michael Wild"
   ]
  },
  {
   "cell_type": "markdown",
   "id": "2b8914d9-34ac-41ca-9389-9b27767b2655",
   "metadata": {},
   "source": [
    "## Imports"
   ]
  },
  {
   "cell_type": "code",
   "execution_count": 1,
   "id": "631caeb9-21bc-46e6-b5ca-0e73d357690a",
   "metadata": {},
   "outputs": [],
   "source": [
    "import pandas as pd"
   ]
  },
  {
   "cell_type": "markdown",
   "id": "2da2f76c-95c1-4721-b8c3-ac06fe75cc80",
   "metadata": {},
   "source": [
    "## Load Data"
   ]
  },
  {
   "cell_type": "code",
   "execution_count": null,
   "id": "967af389-6810-4657-a08d-fbe282fb0c9b",
   "metadata": {},
   "outputs": [],
   "source": []
  },
  {
   "cell_type": "markdown",
   "id": "5655f3c3-9b58-41f1-80a4-3898fd7de974",
   "metadata": {},
   "source": [
    "## Cleanup and Pre-Processing of Data"
   ]
  },
  {
   "cell_type": "code",
   "execution_count": null,
   "id": "bf90e96e-49f1-4853-b1f6-660ace13b4b1",
   "metadata": {},
   "outputs": [],
   "source": []
  },
  {
   "cell_type": "markdown",
   "id": "4345977f-a8d1-4bc8-a32a-d2d2ab92a576",
   "metadata": {},
   "source": [
    "## Functions"
   ]
  },
  {
   "cell_type": "code",
   "execution_count": 66,
   "id": "1eb34ade-7743-43cf-a476-7657ec84cc81",
   "metadata": {},
   "outputs": [],
   "source": [
    "def calculate(inc, alpha, tau_e, tau_a):\n",
    "    '''Model for the estimation of ventilator occupation given incidence time series\n",
    "    \n",
    "    Parameters\n",
    "    ----------\n",
    "    inc: pd.DataFrame\n",
    "      DataFrame with incidence numbers with a multi-level index. Levels must be:\n",
    "          * level=0: int, week numbers, named 't'\n",
    "          * level=1: str, age-group, named 'age_group'\n",
    "          * level=2: str, vaccination status, named 'vacc_status'\n",
    "    alpha: pd.DataFrame\n",
    "      Model parameters representing the _conversion factors_ from the incidence\n",
    "      numbers to the number of patients requiring ventilation. The multi-level\n",
    "      index must contain a value in the range [0, 1] for each combination of\n",
    "      age-group and vaccination status.\n",
    "    tau_e: int\n",
    "      Model parameter describing the number of weeks that passes between\n",
    "      infection and a patient being attached to a ventilator.\n",
    "    tau_a: int\n",
    "      Model parameter describing the number of weeks that passes between\n",
    "      infection and a patient either no longer requires the ventilator\n",
    "      or is deceased.\n",
    "    \n",
    "    Returns\n",
    "    -------\n",
    "    pd.DataFrame\n",
    "      A time-series predicting the ventilator occupancy.\n",
    "    '''\n",
    "    \n",
    "    # build grouping by age and vaccination status\n",
    "    inc_grp = inc.groupby(level=['age_group', 'vacc_status'])\n",
    "    # shift the groups and calculate the difference\n",
    "    delta = inc_grp.shift(tau_e) - inc_grp.shift(tau_a)\n",
    "    # for each group, multiply the difference with the conversion factor\n",
    "    for i in inc.index.unique('age_group'):\n",
    "        for j in inc.index.unique('vacc_status'):\n",
    "            delta[:, i, j] *= alpha[i, j]\n",
    "    # for each group calculate the cumulative sum\n",
    "    vij = delta.groupby(level=['age_group', 'vacc_status']).cumsum()\n",
    "    # calculate total occupation by summing over the groups\n",
    "    v = vij.groupby(level='t').sum()\n",
    "    return v\n",
    "    "
   ]
  },
  {
   "cell_type": "code",
   "execution_count": null,
   "id": "8e0a6666-f1e5-4c08-a295-801d3f70aea1",
   "metadata": {},
   "outputs": [],
   "source": []
  }
 ],
 "metadata": {
  "kernelspec": {
   "display_name": "Python 3 (ipykernel)",
   "language": "python",
   "name": "python3"
  },
  "language_info": {
   "codemirror_mode": {
    "name": "ipython",
    "version": 3
   },
   "file_extension": ".py",
   "mimetype": "text/x-python",
   "name": "python",
   "nbconvert_exporter": "python",
   "pygments_lexer": "ipython3",
   "version": "3.9.7"
  },
  "toc-showcode": false
 },
 "nbformat": 4,
 "nbformat_minor": 5
}
